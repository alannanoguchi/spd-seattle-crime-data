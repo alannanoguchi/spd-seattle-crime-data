{
 "cells": [
  {
   "cell_type": "markdown",
   "metadata": {},
   "source": [
    "Data Science\n",
    "\n",
    "Use Pandas for data-frame cleaning, manipulation and analysis. Show the findings by choosing different types of visualization in Matplotlib and Seaborn. Use Scipy, Stats and Numpy for statistical analysis. The data-set is  Seattle Crime Data Coding Challenge.\n",
    "\n",
    "<img src = 'https://images.unsplash.com/photo-1437809781432-a957377661ee?ixlib=rb-1.2.1&ixid=eyJhcHBfaWQiOjEyMDd9&auto=format&fit=crop&w=500&q=60' >"
   ]
  },
  {
   "cell_type": "code",
   "execution_count": 24,
   "metadata": {},
   "outputs": [
    {
     "data": {
      "text/html": [
       "<div>\n",
       "<style scoped>\n",
       "    .dataframe tbody tr th:only-of-type {\n",
       "        vertical-align: middle;\n",
       "    }\n",
       "\n",
       "    .dataframe tbody tr th {\n",
       "        vertical-align: top;\n",
       "    }\n",
       "\n",
       "    .dataframe thead th {\n",
       "        text-align: right;\n",
       "    }\n",
       "</style>\n",
       "<table border=\"1\" class=\"dataframe\">\n",
       "  <thead>\n",
       "    <tr style=\"text-align: right;\">\n",
       "      <th></th>\n",
       "      <th>Police Beat</th>\n",
       "      <th>CRIME_TYPE</th>\n",
       "      <th>CRIME_DESCRIPTION</th>\n",
       "      <th>STAT_VALUE</th>\n",
       "      <th>REPORT_DATE</th>\n",
       "      <th>Sector</th>\n",
       "      <th>Precinct</th>\n",
       "      <th>Row_Value_ID</th>\n",
       "    </tr>\n",
       "  </thead>\n",
       "  <tbody>\n",
       "    <tr>\n",
       "      <td>0</td>\n",
       "      <td>R2</td>\n",
       "      <td>Rape</td>\n",
       "      <td>Rape</td>\n",
       "      <td>1</td>\n",
       "      <td>2014</td>\n",
       "      <td>R</td>\n",
       "      <td>SE</td>\n",
       "      <td>27092</td>\n",
       "    </tr>\n",
       "    <tr>\n",
       "      <td>1</td>\n",
       "      <td>K2</td>\n",
       "      <td>Assault</td>\n",
       "      <td>Assault</td>\n",
       "      <td>5</td>\n",
       "      <td>2014</td>\n",
       "      <td>K</td>\n",
       "      <td>W</td>\n",
       "      <td>26506</td>\n",
       "    </tr>\n",
       "    <tr>\n",
       "      <td>2</td>\n",
       "      <td>M2</td>\n",
       "      <td>Homicide</td>\n",
       "      <td>Homicide</td>\n",
       "      <td>1</td>\n",
       "      <td>2014</td>\n",
       "      <td>M</td>\n",
       "      <td>W</td>\n",
       "      <td>27567</td>\n",
       "    </tr>\n",
       "    <tr>\n",
       "      <td>3</td>\n",
       "      <td>C3</td>\n",
       "      <td>Robbery</td>\n",
       "      <td>Robbery</td>\n",
       "      <td>2</td>\n",
       "      <td>2014</td>\n",
       "      <td>C</td>\n",
       "      <td>E</td>\n",
       "      <td>26225</td>\n",
       "    </tr>\n",
       "    <tr>\n",
       "      <td>4</td>\n",
       "      <td>E2</td>\n",
       "      <td>Motor Vehicle Theft</td>\n",
       "      <td>Vehicle Theft is theft of a car, truck, motorc...</td>\n",
       "      <td>7</td>\n",
       "      <td>2014</td>\n",
       "      <td>E</td>\n",
       "      <td>E</td>\n",
       "      <td>26368</td>\n",
       "    </tr>\n",
       "  </tbody>\n",
       "</table>\n",
       "</div>"
      ],
      "text/plain": [
       "  Police Beat           CRIME_TYPE  \\\n",
       "0          R2                 Rape   \n",
       "1          K2              Assault   \n",
       "2          M2             Homicide   \n",
       "3          C3              Robbery   \n",
       "4          E2  Motor Vehicle Theft   \n",
       "\n",
       "                                   CRIME_DESCRIPTION  STAT_VALUE  REPORT_DATE  \\\n",
       "0                                               Rape           1         2014   \n",
       "1                                            Assault           5         2014   \n",
       "2                                           Homicide           1         2014   \n",
       "3                                            Robbery           2         2014   \n",
       "4  Vehicle Theft is theft of a car, truck, motorc...           7         2014   \n",
       "\n",
       "  Sector Precinct  Row_Value_ID  \n",
       "0      R       SE         27092  \n",
       "1      K        W         26506  \n",
       "2      M        W         27567  \n",
       "3      C        E         26225  \n",
       "4      E        E         26368  "
      ]
     },
     "execution_count": 24,
     "metadata": {},
     "output_type": "execute_result"
    }
   ],
   "source": [
    "import pandas as pd\n",
    "import numpy as np\n",
    "import matplotlib.pyplot as plt\n",
    "import seaborn as sns\n",
    "\n",
    "df = pd.read_csv('2008-present-data.csv')\n",
    "df.head()"
   ]
  },
  {
   "cell_type": "code",
   "execution_count": 25,
   "metadata": {},
   "outputs": [
    {
     "data": {
      "text/plain": [
       "Index(['Police Beat', 'CRIME_TYPE', 'CRIME_DESCRIPTION', 'STAT_VALUE',\n",
       "       'REPORT_DATE', 'Sector', 'Precinct', 'Row_Value_ID'],\n",
       "      dtype='object')"
      ]
     },
     "execution_count": 25,
     "metadata": {},
     "output_type": "execute_result"
    }
   ],
   "source": [
    "df.columns[:]  # names of the columns in the dataset"
   ]
  },
  {
   "cell_type": "code",
   "execution_count": 37,
   "metadata": {},
   "outputs": [
    {
     "data": {
      "text/html": [
       "<div>\n",
       "<style scoped>\n",
       "    .dataframe tbody tr th:only-of-type {\n",
       "        vertical-align: middle;\n",
       "    }\n",
       "\n",
       "    .dataframe tbody tr th {\n",
       "        vertical-align: top;\n",
       "    }\n",
       "\n",
       "    .dataframe thead th {\n",
       "        text-align: right;\n",
       "    }\n",
       "</style>\n",
       "<table border=\"1\" class=\"dataframe\">\n",
       "  <thead>\n",
       "    <tr style=\"text-align: right;\">\n",
       "      <th></th>\n",
       "      <th>STAT_VALUE</th>\n",
       "      <th>REPORT_DATE</th>\n",
       "      <th>Row_Value_ID</th>\n",
       "    </tr>\n",
       "  </thead>\n",
       "  <tbody>\n",
       "    <tr>\n",
       "      <td>count</td>\n",
       "      <td>27125.000000</td>\n",
       "      <td>27125.000000</td>\n",
       "      <td>27125.000000</td>\n",
       "    </tr>\n",
       "    <tr>\n",
       "      <td>mean</td>\n",
       "      <td>8.413714</td>\n",
       "      <td>2010.684387</td>\n",
       "      <td>13805.159263</td>\n",
       "    </tr>\n",
       "    <tr>\n",
       "      <td>std</td>\n",
       "      <td>14.046848</td>\n",
       "      <td>1.837073</td>\n",
       "      <td>7993.009161</td>\n",
       "    </tr>\n",
       "    <tr>\n",
       "      <td>min</td>\n",
       "      <td>-3.000000</td>\n",
       "      <td>2008.000000</td>\n",
       "      <td>1.000000</td>\n",
       "    </tr>\n",
       "    <tr>\n",
       "      <td>25%</td>\n",
       "      <td>0.000000</td>\n",
       "      <td>2009.000000</td>\n",
       "      <td>6908.000000</td>\n",
       "    </tr>\n",
       "    <tr>\n",
       "      <td>50%</td>\n",
       "      <td>3.000000</td>\n",
       "      <td>2011.000000</td>\n",
       "      <td>13808.000000</td>\n",
       "    </tr>\n",
       "    <tr>\n",
       "      <td>75%</td>\n",
       "      <td>9.000000</td>\n",
       "      <td>2012.000000</td>\n",
       "      <td>20736.000000</td>\n",
       "    </tr>\n",
       "    <tr>\n",
       "      <td>max</td>\n",
       "      <td>137.000000</td>\n",
       "      <td>2014.000000</td>\n",
       "      <td>27622.000000</td>\n",
       "    </tr>\n",
       "  </tbody>\n",
       "</table>\n",
       "</div>"
      ],
      "text/plain": [
       "         STAT_VALUE   REPORT_DATE  Row_Value_ID\n",
       "count  27125.000000  27125.000000  27125.000000\n",
       "mean       8.413714   2010.684387  13805.159263\n",
       "std       14.046848      1.837073   7993.009161\n",
       "min       -3.000000   2008.000000      1.000000\n",
       "25%        0.000000   2009.000000   6908.000000\n",
       "50%        3.000000   2011.000000  13808.000000\n",
       "75%        9.000000   2012.000000  20736.000000\n",
       "max      137.000000   2014.000000  27622.000000"
      ]
     },
     "execution_count": 37,
     "metadata": {},
     "output_type": "execute_result"
    }
   ],
   "source": [
    "df.describe()"
   ]
  },
  {
   "cell_type": "code",
   "execution_count": 53,
   "metadata": {},
   "outputs": [
    {
     "data": {
      "text/html": [
       "<div>\n",
       "<style scoped>\n",
       "    .dataframe tbody tr th:only-of-type {\n",
       "        vertical-align: middle;\n",
       "    }\n",
       "\n",
       "    .dataframe tbody tr th {\n",
       "        vertical-align: top;\n",
       "    }\n",
       "\n",
       "    .dataframe thead th {\n",
       "        text-align: right;\n",
       "    }\n",
       "</style>\n",
       "<table border=\"1\" class=\"dataframe\">\n",
       "  <thead>\n",
       "    <tr style=\"text-align: right;\">\n",
       "      <th></th>\n",
       "      <th>Police Beat</th>\n",
       "      <th>CRIME_TYPE</th>\n",
       "      <th>STAT_VALUE</th>\n",
       "      <th>REPORT_DATE</th>\n",
       "      <th>Sector</th>\n",
       "      <th>Precinct</th>\n",
       "      <th>Row_Value_ID</th>\n",
       "    </tr>\n",
       "  </thead>\n",
       "  <tbody>\n",
       "    <tr>\n",
       "      <td>0</td>\n",
       "      <td>R2</td>\n",
       "      <td>Rape</td>\n",
       "      <td>1</td>\n",
       "      <td>2014</td>\n",
       "      <td>R</td>\n",
       "      <td>SE</td>\n",
       "      <td>27092</td>\n",
       "    </tr>\n",
       "    <tr>\n",
       "      <td>1</td>\n",
       "      <td>K2</td>\n",
       "      <td>Assault</td>\n",
       "      <td>5</td>\n",
       "      <td>2014</td>\n",
       "      <td>K</td>\n",
       "      <td>W</td>\n",
       "      <td>26506</td>\n",
       "    </tr>\n",
       "    <tr>\n",
       "      <td>2</td>\n",
       "      <td>M2</td>\n",
       "      <td>Homicide</td>\n",
       "      <td>1</td>\n",
       "      <td>2014</td>\n",
       "      <td>M</td>\n",
       "      <td>W</td>\n",
       "      <td>27567</td>\n",
       "    </tr>\n",
       "    <tr>\n",
       "      <td>3</td>\n",
       "      <td>C3</td>\n",
       "      <td>Robbery</td>\n",
       "      <td>2</td>\n",
       "      <td>2014</td>\n",
       "      <td>C</td>\n",
       "      <td>E</td>\n",
       "      <td>26225</td>\n",
       "    </tr>\n",
       "    <tr>\n",
       "      <td>4</td>\n",
       "      <td>E2</td>\n",
       "      <td>Motor Vehicle Theft</td>\n",
       "      <td>7</td>\n",
       "      <td>2014</td>\n",
       "      <td>E</td>\n",
       "      <td>E</td>\n",
       "      <td>26368</td>\n",
       "    </tr>\n",
       "    <tr>\n",
       "      <td>...</td>\n",
       "      <td>...</td>\n",
       "      <td>...</td>\n",
       "      <td>...</td>\n",
       "      <td>...</td>\n",
       "      <td>...</td>\n",
       "      <td>...</td>\n",
       "      <td>...</td>\n",
       "    </tr>\n",
       "    <tr>\n",
       "      <td>27120</td>\n",
       "      <td>B2</td>\n",
       "      <td>Homicide</td>\n",
       "      <td>0</td>\n",
       "      <td>2008</td>\n",
       "      <td>B</td>\n",
       "      <td>N</td>\n",
       "      <td>8</td>\n",
       "    </tr>\n",
       "    <tr>\n",
       "      <td>27121</td>\n",
       "      <td>B1</td>\n",
       "      <td>Burglary</td>\n",
       "      <td>15</td>\n",
       "      <td>2008</td>\n",
       "      <td>B</td>\n",
       "      <td>N</td>\n",
       "      <td>7</td>\n",
       "    </tr>\n",
       "    <tr>\n",
       "      <td>27122</td>\n",
       "      <td>B1</td>\n",
       "      <td>Motor Vehicle Theft</td>\n",
       "      <td>4</td>\n",
       "      <td>2008</td>\n",
       "      <td>B</td>\n",
       "      <td>N</td>\n",
       "      <td>6</td>\n",
       "    </tr>\n",
       "    <tr>\n",
       "      <td>27123</td>\n",
       "      <td>B1</td>\n",
       "      <td>Larceny-Theft</td>\n",
       "      <td>35</td>\n",
       "      <td>2008</td>\n",
       "      <td>B</td>\n",
       "      <td>N</td>\n",
       "      <td>5</td>\n",
       "    </tr>\n",
       "    <tr>\n",
       "      <td>27124</td>\n",
       "      <td>B1</td>\n",
       "      <td>Robbery</td>\n",
       "      <td>5</td>\n",
       "      <td>2008</td>\n",
       "      <td>B</td>\n",
       "      <td>N</td>\n",
       "      <td>3</td>\n",
       "    </tr>\n",
       "  </tbody>\n",
       "</table>\n",
       "<p>27125 rows × 7 columns</p>\n",
       "</div>"
      ],
      "text/plain": [
       "      Police Beat           CRIME_TYPE  STAT_VALUE  REPORT_DATE Sector  \\\n",
       "0              R2                 Rape           1         2014      R   \n",
       "1              K2              Assault           5         2014      K   \n",
       "2              M2             Homicide           1         2014      M   \n",
       "3              C3              Robbery           2         2014      C   \n",
       "4              E2  Motor Vehicle Theft           7         2014      E   \n",
       "...           ...                  ...         ...          ...    ...   \n",
       "27120          B2             Homicide           0         2008      B   \n",
       "27121          B1             Burglary          15         2008      B   \n",
       "27122          B1  Motor Vehicle Theft           4         2008      B   \n",
       "27123          B1        Larceny-Theft          35         2008      B   \n",
       "27124          B1              Robbery           5         2008      B   \n",
       "\n",
       "      Precinct  Row_Value_ID  \n",
       "0           SE         27092  \n",
       "1            W         26506  \n",
       "2            W         27567  \n",
       "3            E         26225  \n",
       "4            E         26368  \n",
       "...        ...           ...  \n",
       "27120        N             8  \n",
       "27121        N             7  \n",
       "27122        N             6  \n",
       "27123        N             5  \n",
       "27124        N             3  \n",
       "\n",
       "[27125 rows x 7 columns]"
      ]
     },
     "execution_count": 53,
     "metadata": {},
     "output_type": "execute_result"
    }
   ],
   "source": [
    "data = df.drop(columns ='CRIME_DESCRIPTION') # remove Crime Description from the data\n",
    "data"
   ]
  },
  {
   "cell_type": "code",
   "execution_count": 54,
   "metadata": {},
   "outputs": [
    {
     "data": {
      "text/plain": [
       "<matplotlib.axes._subplots.AxesSubplot at 0x1a24c3a210>"
      ]
     },
     "execution_count": 54,
     "metadata": {},
     "output_type": "execute_result"
    },
    {
     "data": {
      "image/png": "[encoded data removed]",
      "text/plain": [
       "<Figure size 432x288 with 1 Axes>"
      ]
     },
     "metadata": {
      "needs_background": "light"
     },
     "output_type": "display_data"
    }
   ],
   "source": [
    "data['CRIME_TYPE'].value_counts().plot(kind='bar')"
   ]
  },
  {
   "cell_type": "code",
   "execution_count": 55,
   "metadata": {},
   "outputs": [
    {
     "data": {
      "text/plain": [
       "<matplotlib.axes._subplots.AxesSubplot at 0x1a24d22110>"
      ]
     },
     "execution_count": 55,
     "metadata": {},
     "output_type": "execute_result"
    },
    {
     "data": {
      "image/png": "[encoded data removed]",
      "text/plain": [
       "<Figure size 432x288 with 1 Axes>"
      ]
     },
     "metadata": {},
     "output_type": "display_data"
    }
   ],
   "source": [
    "data['CRIME_TYPE'].value_counts().plot(kind='pie')"
   ]
  },
  {
   "cell_type": "code",
   "execution_count": 56,
   "metadata": {},
   "outputs": [
    {
     "data": {
      "text/plain": [
       "Assault                3876\n",
       "Robbery                3876\n",
       "Motor Vehicle Theft    3875\n",
       "Burglary               3875\n",
       "Rape                   3875\n",
       "Homicide               3874\n",
       "Larceny-Theft          3874\n",
       "Name: CRIME_TYPE, dtype: int64"
      ]
     },
     "execution_count": 56,
     "metadata": {},
     "output_type": "execute_result"
    }
   ],
   "source": [
    "data['CRIME_TYPE'].value_counts()"
   ]
  },
  {
   "cell_type": "code",
   "execution_count": 57,
   "metadata": {},
   "outputs": [
    {
     "data": {
      "text/plain": [
       "{'Assault': 3876,\n",
       " 'Robbery': 3876,\n",
       " 'Motor Vehicle Theft': 3875,\n",
       " 'Burglary': 3875,\n",
       " 'Rape': 3875,\n",
       " 'Homicide': 3874,\n",
       " 'Larceny-Theft': 3874}"
      ]
     },
     "execution_count": 57,
     "metadata": {},
     "output_type": "execute_result"
    }
   ],
   "source": [
    "dict(data['CRIME_TYPE'].value_counts())"
   ]
  },
  {
   "cell_type": "code",
   "execution_count": 58,
   "metadata": {},
   "outputs": [
    {
     "data": {
      "text/plain": [
       "<matplotlib.axes._subplots.AxesSubplot at 0x1a242cdd10>"
      ]
     },
     "execution_count": 58,
     "metadata": {},
     "output_type": "execute_result"
    },
    {
     "data": {
      "image/png": "[encoded data removed]",
      "text/plain": [
       "<Figure size 1440x720 with 1 Axes>"
      ]
     },
     "metadata": {
      "needs_background": "light"
     },
     "output_type": "display_data"
    }
   ],
   "source": [
    "data.groupby(['REPORT_DATE'])['CRIME_TYPE'].value_counts().unstack().plot(kind='bar',stacked=False, figsize=(20,10))"
   ]
  },
  {
   "cell_type": "markdown",
   "metadata": {},
   "source": [
    "### The data shows that in every year the number of crimes is roughly the same at 4,284"
   ]
  },
  {
   "cell_type": "code",
   "execution_count": 59,
   "metadata": {},
   "outputs": [
    {
     "data": {
      "text/plain": [
       "2013    4284\n",
       "2012    4284\n",
       "2011    4284\n",
       "2009    4284\n",
       "2008    4284\n",
       "2010    4277\n",
       "2014    1428\n",
       "Name: REPORT_DATE, dtype: int64"
      ]
     },
     "execution_count": 59,
     "metadata": {},
     "output_type": "execute_result"
    }
   ],
   "source": [
    "data['REPORT_DATE'].value_counts()"
   ]
  },
  {
   "cell_type": "code",
   "execution_count": 64,
   "metadata": {
    "scrolled": true
   },
   "outputs": [
    {
     "data": {
      "text/html": [
       "<div>\n",
       "<style scoped>\n",
       "    .dataframe tbody tr th:only-of-type {\n",
       "        vertical-align: middle;\n",
       "    }\n",
       "\n",
       "    .dataframe tbody tr th {\n",
       "        vertical-align: top;\n",
       "    }\n",
       "\n",
       "    .dataframe thead th {\n",
       "        text-align: right;\n",
       "    }\n",
       "</style>\n",
       "<table border=\"1\" class=\"dataframe\">\n",
       "  <thead>\n",
       "    <tr style=\"text-align: right;\">\n",
       "      <th>CRIME_TYPE</th>\n",
       "      <th>Assault</th>\n",
       "      <th>Burglary</th>\n",
       "      <th>Homicide</th>\n",
       "      <th>Larceny-Theft</th>\n",
       "      <th>Motor Vehicle Theft</th>\n",
       "      <th>Rape</th>\n",
       "      <th>Robbery</th>\n",
       "    </tr>\n",
       "    <tr>\n",
       "      <th>REPORT_DATE</th>\n",
       "      <th></th>\n",
       "      <th></th>\n",
       "      <th></th>\n",
       "      <th></th>\n",
       "      <th></th>\n",
       "      <th></th>\n",
       "      <th></th>\n",
       "    </tr>\n",
       "  </thead>\n",
       "  <tbody>\n",
       "    <tr>\n",
       "      <td>2008</td>\n",
       "      <td>612</td>\n",
       "      <td>612</td>\n",
       "      <td>612</td>\n",
       "      <td>612</td>\n",
       "      <td>612</td>\n",
       "      <td>612</td>\n",
       "      <td>612</td>\n",
       "    </tr>\n",
       "    <tr>\n",
       "      <td>2009</td>\n",
       "      <td>612</td>\n",
       "      <td>612</td>\n",
       "      <td>612</td>\n",
       "      <td>612</td>\n",
       "      <td>612</td>\n",
       "      <td>612</td>\n",
       "      <td>612</td>\n",
       "    </tr>\n",
       "    <tr>\n",
       "      <td>2010</td>\n",
       "      <td>611</td>\n",
       "      <td>611</td>\n",
       "      <td>611</td>\n",
       "      <td>611</td>\n",
       "      <td>611</td>\n",
       "      <td>611</td>\n",
       "      <td>611</td>\n",
       "    </tr>\n",
       "    <tr>\n",
       "      <td>2011</td>\n",
       "      <td>613</td>\n",
       "      <td>612</td>\n",
       "      <td>611</td>\n",
       "      <td>611</td>\n",
       "      <td>612</td>\n",
       "      <td>612</td>\n",
       "      <td>613</td>\n",
       "    </tr>\n",
       "    <tr>\n",
       "      <td>2012</td>\n",
       "      <td>612</td>\n",
       "      <td>612</td>\n",
       "      <td>612</td>\n",
       "      <td>612</td>\n",
       "      <td>612</td>\n",
       "      <td>612</td>\n",
       "      <td>612</td>\n",
       "    </tr>\n",
       "    <tr>\n",
       "      <td>2013</td>\n",
       "      <td>612</td>\n",
       "      <td>612</td>\n",
       "      <td>612</td>\n",
       "      <td>612</td>\n",
       "      <td>612</td>\n",
       "      <td>612</td>\n",
       "      <td>612</td>\n",
       "    </tr>\n",
       "    <tr>\n",
       "      <td>2014</td>\n",
       "      <td>204</td>\n",
       "      <td>204</td>\n",
       "      <td>204</td>\n",
       "      <td>204</td>\n",
       "      <td>204</td>\n",
       "      <td>204</td>\n",
       "      <td>204</td>\n",
       "    </tr>\n",
       "  </tbody>\n",
       "</table>\n",
       "</div>"
      ],
      "text/plain": [
       "CRIME_TYPE   Assault  Burglary  Homicide  Larceny-Theft  Motor Vehicle Theft  \\\n",
       "REPORT_DATE                                                                    \n",
       "2008             612       612       612            612                  612   \n",
       "2009             612       612       612            612                  612   \n",
       "2010             611       611       611            611                  611   \n",
       "2011             613       612       611            611                  612   \n",
       "2012             612       612       612            612                  612   \n",
       "2013             612       612       612            612                  612   \n",
       "2014             204       204       204            204                  204   \n",
       "\n",
       "CRIME_TYPE   Rape  Robbery  \n",
       "REPORT_DATE                 \n",
       "2008          612      612  \n",
       "2009          612      612  \n",
       "2010          611      611  \n",
       "2011          612      613  \n",
       "2012          612      612  \n",
       "2013          612      612  \n",
       "2014          204      204  "
      ]
     },
     "execution_count": 64,
     "metadata": {},
     "output_type": "execute_result"
    }
   ],
   "source": [
    "table = pd.crosstab(df['REPORT_DATE'], df['CRIME_TYPE'])\n",
    "table"
   ]
  },
  {
   "cell_type": "code",
   "execution_count": 78,
   "metadata": {},
   "outputs": [],
   "source": [
    "# Create a new column as Crime, when CRIME_TYPE is Assault: 0, Burglary: 1, Homicide: 2...\n",
    "data['Crime'] = data['CRIME_TYPE'].map( {'Assault': 0, 'Burglary': 1, 'Homicide': 2, 'Larceny-Theft': 3, 'Motor Vehicle Theft': 4, 'Rape': 5, 'Robbery': 5}).astype(int)"
   ]
  },
  {
   "cell_type": "code",
   "execution_count": 81,
   "metadata": {},
   "outputs": [
    {
     "data": {
      "text/html": [
       "<div>\n",
       "<style scoped>\n",
       "    .dataframe tbody tr th:only-of-type {\n",
       "        vertical-align: middle;\n",
       "    }\n",
       "\n",
       "    .dataframe tbody tr th {\n",
       "        vertical-align: top;\n",
       "    }\n",
       "\n",
       "    .dataframe thead th {\n",
       "        text-align: right;\n",
       "    }\n",
       "</style>\n",
       "<table border=\"1\" class=\"dataframe\">\n",
       "  <thead>\n",
       "    <tr style=\"text-align: right;\">\n",
       "      <th></th>\n",
       "      <th>Police Beat</th>\n",
       "      <th>CRIME_TYPE</th>\n",
       "      <th>STAT_VALUE</th>\n",
       "      <th>REPORT_DATE</th>\n",
       "      <th>Sector</th>\n",
       "      <th>Precinct</th>\n",
       "      <th>Row_Value_ID</th>\n",
       "      <th>Crime</th>\n",
       "    </tr>\n",
       "  </thead>\n",
       "  <tbody>\n",
       "    <tr>\n",
       "      <td>0</td>\n",
       "      <td>R2</td>\n",
       "      <td>Rape</td>\n",
       "      <td>1</td>\n",
       "      <td>2014</td>\n",
       "      <td>R</td>\n",
       "      <td>SE</td>\n",
       "      <td>27092</td>\n",
       "      <td>5</td>\n",
       "    </tr>\n",
       "    <tr>\n",
       "      <td>1</td>\n",
       "      <td>K2</td>\n",
       "      <td>Assault</td>\n",
       "      <td>5</td>\n",
       "      <td>2014</td>\n",
       "      <td>K</td>\n",
       "      <td>W</td>\n",
       "      <td>26506</td>\n",
       "      <td>0</td>\n",
       "    </tr>\n",
       "    <tr>\n",
       "      <td>2</td>\n",
       "      <td>M2</td>\n",
       "      <td>Homicide</td>\n",
       "      <td>1</td>\n",
       "      <td>2014</td>\n",
       "      <td>M</td>\n",
       "      <td>W</td>\n",
       "      <td>27567</td>\n",
       "      <td>2</td>\n",
       "    </tr>\n",
       "    <tr>\n",
       "      <td>3</td>\n",
       "      <td>C3</td>\n",
       "      <td>Robbery</td>\n",
       "      <td>2</td>\n",
       "      <td>2014</td>\n",
       "      <td>C</td>\n",
       "      <td>E</td>\n",
       "      <td>26225</td>\n",
       "      <td>5</td>\n",
       "    </tr>\n",
       "    <tr>\n",
       "      <td>4</td>\n",
       "      <td>E2</td>\n",
       "      <td>Motor Vehicle Theft</td>\n",
       "      <td>7</td>\n",
       "      <td>2014</td>\n",
       "      <td>E</td>\n",
       "      <td>E</td>\n",
       "      <td>26368</td>\n",
       "      <td>4</td>\n",
       "    </tr>\n",
       "    <tr>\n",
       "      <td>...</td>\n",
       "      <td>...</td>\n",
       "      <td>...</td>\n",
       "      <td>...</td>\n",
       "      <td>...</td>\n",
       "      <td>...</td>\n",
       "      <td>...</td>\n",
       "      <td>...</td>\n",
       "      <td>...</td>\n",
       "    </tr>\n",
       "    <tr>\n",
       "      <td>27120</td>\n",
       "      <td>B2</td>\n",
       "      <td>Homicide</td>\n",
       "      <td>0</td>\n",
       "      <td>2008</td>\n",
       "      <td>B</td>\n",
       "      <td>N</td>\n",
       "      <td>8</td>\n",
       "      <td>2</td>\n",
       "    </tr>\n",
       "    <tr>\n",
       "      <td>27121</td>\n",
       "      <td>B1</td>\n",
       "      <td>Burglary</td>\n",
       "      <td>15</td>\n",
       "      <td>2008</td>\n",
       "      <td>B</td>\n",
       "      <td>N</td>\n",
       "      <td>7</td>\n",
       "      <td>1</td>\n",
       "    </tr>\n",
       "    <tr>\n",
       "      <td>27122</td>\n",
       "      <td>B1</td>\n",
       "      <td>Motor Vehicle Theft</td>\n",
       "      <td>4</td>\n",
       "      <td>2008</td>\n",
       "      <td>B</td>\n",
       "      <td>N</td>\n",
       "      <td>6</td>\n",
       "      <td>4</td>\n",
       "    </tr>\n",
       "    <tr>\n",
       "      <td>27123</td>\n",
       "      <td>B1</td>\n",
       "      <td>Larceny-Theft</td>\n",
       "      <td>35</td>\n",
       "      <td>2008</td>\n",
       "      <td>B</td>\n",
       "      <td>N</td>\n",
       "      <td>5</td>\n",
       "      <td>3</td>\n",
       "    </tr>\n",
       "    <tr>\n",
       "      <td>27124</td>\n",
       "      <td>B1</td>\n",
       "      <td>Robbery</td>\n",
       "      <td>5</td>\n",
       "      <td>2008</td>\n",
       "      <td>B</td>\n",
       "      <td>N</td>\n",
       "      <td>3</td>\n",
       "      <td>5</td>\n",
       "    </tr>\n",
       "  </tbody>\n",
       "</table>\n",
       "<p>27125 rows × 8 columns</p>\n",
       "</div>"
      ],
      "text/plain": [
       "      Police Beat           CRIME_TYPE  STAT_VALUE  REPORT_DATE Sector  \\\n",
       "0              R2                 Rape           1         2014      R   \n",
       "1              K2              Assault           5         2014      K   \n",
       "2              M2             Homicide           1         2014      M   \n",
       "3              C3              Robbery           2         2014      C   \n",
       "4              E2  Motor Vehicle Theft           7         2014      E   \n",
       "...           ...                  ...         ...          ...    ...   \n",
       "27120          B2             Homicide           0         2008      B   \n",
       "27121          B1             Burglary          15         2008      B   \n",
       "27122          B1  Motor Vehicle Theft           4         2008      B   \n",
       "27123          B1        Larceny-Theft          35         2008      B   \n",
       "27124          B1              Robbery           5         2008      B   \n",
       "\n",
       "      Precinct  Row_Value_ID  Crime  \n",
       "0           SE         27092      5  \n",
       "1            W         26506      0  \n",
       "2            W         27567      2  \n",
       "3            E         26225      5  \n",
       "4            E         26368      4  \n",
       "...        ...           ...    ...  \n",
       "27120        N             8      2  \n",
       "27121        N             7      1  \n",
       "27122        N             6      4  \n",
       "27123        N             5      3  \n",
       "27124        N             3      5  \n",
       "\n",
       "[27125 rows x 8 columns]"
      ]
     },
     "execution_count": 81,
     "metadata": {},
     "output_type": "execute_result"
    }
   ],
   "source": []
  },
  {
   "cell_type": "code",
   "execution_count": 83,
   "metadata": {},
   "outputs": [
    {
     "data": {
      "text/plain": [
       "N     7973\n",
       "W     6384\n",
       "SE    4788\n",
       "E     4788\n",
       "SW    3192\n",
       "Name: Precinct, dtype: int64"
      ]
     },
     "execution_count": 83,
     "metadata": {},
     "output_type": "execute_result"
    }
   ],
   "source": [
    "data['Precinct'].value_counts()"
   ]
  },
  {
   "cell_type": "code",
   "execution_count": 84,
   "metadata": {},
   "outputs": [
    {
     "data": {
      "text/plain": [
       "M    1596\n",
       "S    1596\n",
       "L    1596\n",
       "R    1596\n",
       "J    1596\n",
       "W    1596\n",
       "C    1596\n",
       "Q    1596\n",
       "K    1596\n",
       "U    1596\n",
       "N    1596\n",
       "F    1596\n",
       "E    1596\n",
       "O    1596\n",
       "G    1596\n",
       "D    1596\n",
       "B    1589\n",
       "Name: Sector, dtype: int64"
      ]
     },
     "execution_count": 84,
     "metadata": {},
     "output_type": "execute_result"
    }
   ],
   "source": [
    "data['Sector'].value_counts()"
   ]
  },
  {
   "cell_type": "code",
   "execution_count": 86,
   "metadata": {},
   "outputs": [
    {
     "data": {
      "text/plain": [
       "<matplotlib.axes._subplots.AxesSubplot at 0x1a26024790>"
      ]
     },
     "execution_count": 86,
     "metadata": {},
     "output_type": "execute_result"
    },
    {
     "data": {
      "image/png": "[encoded data removed]",
      "text/plain": [
       "<Figure size 432x288 with 2 Axes>"
      ]
     },
     "metadata": {
      "needs_background": "light"
     },
     "output_type": "display_data"
    }
   ],
   "source": [
    "sns.heatmap(pd.crosstab(df['CRIME_TYPE'], df['REPORT_DATE'], normalize='index'), cmap='YlGnBu', annot=True)"
   ]
  },
  {
   "cell_type": "code",
   "execution_count": null,
   "metadata": {},
   "outputs": [],
   "source": []
  }
 ],
 "metadata": {
  "kernelspec": {
   "display_name": "Python 3",
   "language": "python",
   "name": "python3"
  },
  "language_info": {
   "codemirror_mode": {
    "name": "ipython",
    "version": 3
   },
   "file_extension": ".py",
   "mimetype": "text/x-python",
   "name": "python",
   "nbconvert_exporter": "python",
   "pygments_lexer": "ipython3",
   "version": "3.7.4"
  }
 },
 "nbformat": 4,
 "nbformat_minor": 2
}
